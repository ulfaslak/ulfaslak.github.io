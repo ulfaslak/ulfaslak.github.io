{
 "cells": [
  {
   "cell_type": "markdown",
   "metadata": {},
   "source": [
    "## Exercises 1"
   ]
  },
  {
   "cell_type": "markdown",
   "metadata": {},
   "source": [
    "This is a Jupyter notebook. There are two basic things you need to know about them:\n",
    "\n",
    "1. The notebook has two modes: **edit** and **command** mode. You enter command mode by pressing <kbd>esc</kbd> or clicking outside a cell and edit mode by clicking a cell and pressing <kbd>enter</kbd> or double clicking a cell. When you're in edit mode, the outline of the current turns green and whatever you type into your keyboard goes into that cell. When you're in command mode, the outline of the latest edited cell turns blue and your keys become hotkeys that execute commands. Beware of <kbd>x</kbd> and <kbd>d</kbd>. A full list of hotkeys is displayed when you press <kbd>h</kbd> in command mode.\n",
    "\n",
    "2. A notebook is list of cells. There are two types of cells: **code** and **markdown**. You can toggle cell type in command mode by pressing <kbd>y</kbd> for code and <kbd>m</kbd> for markdown.\n",
    "\n",
    "When you run a code cell by pressing <kbd>shift</kbd> + <kbd>enter</kbd>, the code gets evaluated by the Python interpreter installed on your computer. The interpreter always returns some output, so unless you store it in a variable, it gets printed below the cell. In general, you will use code cells for doing analysis and working with data.\n",
    "\n",
    "Markdown is a simple markup language for formatting text. You will typically use it for writing explanations about how you solve the exercises and segmenting your notebook into sections. It can do **bold**, *italics* and $\\LaTeX$ formatting (for equations), and much much more. You can read about markdown [here](http://daringfireball.net/projects/markdown/)."
   ]
  },
  {
   "cell_type": "markdown",
   "metadata": {
    "ExecuteTime": {
     "end_time": "2017-08-23T14:01:10.834257Z",
     "start_time": "2017-08-23T14:01:10.826472Z"
    }
   },
   "source": [
    "**Ex. 1.0**: In the cell below, write a short text that shows that you can:\n",
    "* Create sections\n",
    "* Write words in bold and italics\n",
    "* Write an equation in LateX formatting\n",
    "* Create bullet lists\n",
    "* Create [hyperlinks](https://en.wikipedia.org/wiki/Hyperlink)"
   ]
  },
  {
   "cell_type": "markdown",
   "metadata": {},
   "source": [
    "[Answer to Ex. 1.0]"
   ]
  },
  {
   "cell_type": "markdown",
   "metadata": {},
   "source": [
    "**Ex. 1.1**: Create a list `a` that contains the numbers from $1$ to $1110$, incremented by one, using the `range` function."
   ]
  },
  {
   "cell_type": "code",
   "execution_count": 1,
   "metadata": {
    "ExecuteTime": {
     "end_time": "2017-08-23T15:16:56.993349Z",
     "start_time": "2017-08-23T15:16:56.987883Z"
    },
    "collapsed": true,
    "run_control": {
     "frozen": false,
     "read_only": false
    }
   },
   "outputs": [],
   "source": [
    "# Answer to Ex. 1.1"
   ]
  },
  {
   "cell_type": "markdown",
   "metadata": {},
   "source": [
    "**Ex. 1.2**: Show that you understand [slicing](http://stackoverflow.com/questions/509211/explain-pythons-slice-notation) in Python by extracting a list `b` with the numbers from $543$ to $779$ from the list created above."
   ]
  },
  {
   "cell_type": "code",
   "execution_count": 2,
   "metadata": {
    "ExecuteTime": {
     "end_time": "2017-08-23T15:17:07.430050Z",
     "start_time": "2017-08-23T15:17:07.427220Z"
    },
    "collapsed": true,
    "run_control": {
     "frozen": false,
     "read_only": false
    }
   },
   "outputs": [],
   "source": [
    "# Answer to Ex. 1.2"
   ]
  },
  {
   "cell_type": "markdown",
   "metadata": {},
   "source": [
    "**Ex. 1.3**: Using `def`, define a function that takes as input a number $x$ and outputs the number multiplied by itself plus three $f(x) = x(x+3)$. "
   ]
  },
  {
   "cell_type": "code",
   "execution_count": 3,
   "metadata": {
    "ExecuteTime": {
     "end_time": "2017-08-23T15:17:12.805884Z",
     "start_time": "2017-08-23T15:17:12.802903Z"
    },
    "collapsed": true,
    "run_control": {
     "frozen": false,
     "read_only": false
    }
   },
   "outputs": [],
   "source": [
    "# Answer to Ex. 1.3"
   ]
  },
  {
   "cell_type": "markdown",
   "metadata": {},
   "source": [
    "**Ex. 1.4**: Apply this function to every element of the list `b` using a `for` loop. "
   ]
  },
  {
   "cell_type": "code",
   "execution_count": 4,
   "metadata": {
    "ExecuteTime": {
     "end_time": "2017-08-23T15:17:18.411649Z",
     "start_time": "2017-08-23T15:17:18.408508Z"
    },
    "collapsed": true,
    "run_control": {
     "frozen": false,
     "read_only": false
    }
   },
   "outputs": [],
   "source": [
    "# Answer to Ex. 1.4"
   ]
  },
  {
   "cell_type": "markdown",
   "metadata": {},
   "source": [
    "**Ex. 1.5**: Do the same thing using a list comprehension."
   ]
  },
  {
   "cell_type": "code",
   "execution_count": 5,
   "metadata": {
    "ExecuteTime": {
     "end_time": "2017-08-23T15:17:24.523949Z",
     "start_time": "2017-08-23T15:17:24.521053Z"
    },
    "collapsed": true,
    "run_control": {
     "frozen": false,
     "read_only": false
    }
   },
   "outputs": [],
   "source": [
    "# Answer to Ex. 1.5"
   ]
  },
  {
   "cell_type": "markdown",
   "metadata": {},
   "source": [
    "**Ex. 1.6**: Write the output of your function to a text file with one number per line."
   ]
  },
  {
   "cell_type": "code",
   "execution_count": 6,
   "metadata": {
    "ExecuteTime": {
     "end_time": "2017-08-23T15:17:34.579227Z",
     "start_time": "2017-08-23T15:17:34.576190Z"
    },
    "collapsed": true,
    "run_control": {
     "frozen": false,
     "read_only": false
    }
   },
   "outputs": [],
   "source": [
    "# Answer to Ex. 1.6"
   ]
  },
  {
   "cell_type": "markdown",
   "metadata": {},
   "source": [
    "**Ex. 1.7**: Show that you understand how strings work in Python. I copied [this code example](https://learnpythonthehardway.org/book/ex6.html) into the cell below. You should:\n",
    "\n",
    "1. Add a comment above each line of code that explains it.\n",
    "2. Find all the lines where a string is put into a string. How many are there?\n",
    "3. Explain the difference between `%d`, `%s` and `%r`."
   ]
  },
  {
   "cell_type": "code",
   "execution_count": 2,
   "metadata": {
    "ExecuteTime": {
     "end_time": "2017-08-23T14:29:25.942898Z",
     "start_time": "2017-08-23T14:29:25.932328Z"
    },
    "run_control": {
     "frozen": false,
     "read_only": false
    }
   },
   "outputs": [
    {
     "name": "stdout",
     "output_type": "stream",
     "text": [
      "There are 10 types of people.\n",
      "Those who know binary and those who don't.\n",
      "I said: 'There are 10 types of people.'.\n",
      "I also said: 'Those who know binary and those who don't.'.\n",
      "Isn't that joke so funny?! False\n",
      "This is the left side of...a string with a right side.\n"
     ]
    }
   ],
   "source": [
    "# This is an example of a comment\n",
    "\n",
    "x = \"There are %d types of people.\" % 10\n",
    "binary = \"binary\"\n",
    "do_not = \"don't\"\n",
    "y = \"Those who know %s and those who %s.\" % (binary, do_not)\n",
    "\n",
    "print x\n",
    "print y\n",
    "\n",
    "print \"I said: %r.\" % x\n",
    "print \"I also said: '%s'.\" % y\n",
    "\n",
    "hilarious = False\n",
    "joke_evaluation = \"Isn't that joke so funny?! %r\"\n",
    "\n",
    "print joke_evaluation % hilarious\n",
    "\n",
    "w = \"This is the left side of...\"\n",
    "e = \"a string with a right side.\"\n",
    "\n",
    "print w + e"
   ]
  },
  {
   "cell_type": "markdown",
   "metadata": {},
   "source": [
    "[Answer for Ex. 1.7.2-3]"
   ]
  },
  {
   "cell_type": "markdown",
   "metadata": {},
   "source": [
    "**Ex. 1.8**: Learn about JSON by reading the **[wikipedia page](https://en.wikipedia.org/wiki/JSON)**. Then answer the following questions in the cell below. \n",
    "\n",
    "* What do the letters stand for?\n",
    "* What is `json`?\n",
    "* Why is `json` superior to `xml`? (... or why not?)"
   ]
  },
  {
   "cell_type": "markdown",
   "metadata": {},
   "source": [
    "[Answer to Ex. 1.8]"
   ]
  },
  {
   "cell_type": "markdown",
   "metadata": {},
   "source": [
    "**Ex. 1.9a**: Working with JSON files\n",
    "\n",
    "1. Use [`requests`](https://www.google.dk/search?q=python+requests+get+json&gws_rd=cr&ei=M5OdWaewD8Ti6AS54J24Bg), or another Python module, to store **[this data file](https://www.reddit.com/r/news.json)** in a variable.\n",
    "2. What is the type of this variable?\n",
    "\n",
    "*Hint: You import modules simply by running `import <module name>` in a code cell.*"
   ]
  },
  {
   "cell_type": "code",
   "execution_count": 7,
   "metadata": {
    "ExecuteTime": {
     "end_time": "2017-08-23T15:18:35.609646Z",
     "start_time": "2017-08-23T15:18:35.606968Z"
    },
    "collapsed": true,
    "run_control": {
     "frozen": false,
     "read_only": false
    }
   },
   "outputs": [],
   "source": [
    "# Answer to Ex. 1.9a.1"
   ]
  },
  {
   "cell_type": "markdown",
   "metadata": {},
   "source": [
    "[Answer to Ex. 1.9a.2]"
   ]
  },
  {
   "cell_type": "markdown",
   "metadata": {},
   "source": [
    "**Ex. 1.9b**: Let's try to inspect the data you retrieved. \n",
    "\n",
    "1. Use the `json` module to print your data variable as a string with `indent=4`.\n",
    "2. The data is a dictionary, a type of Python object that stores data as key-value pairs. What are the keys?\n",
    "\n",
    "*Hint: 1. Use the `json` function `dumps`. 2. Call `.keys()` on the variable.*"
   ]
  },
  {
   "cell_type": "code",
   "execution_count": 8,
   "metadata": {
    "ExecuteTime": {
     "end_time": "2017-08-23T15:18:51.215782Z",
     "start_time": "2017-08-23T15:18:51.213245Z"
    },
    "collapsed": true,
    "run_control": {
     "frozen": false,
     "read_only": false
    }
   },
   "outputs": [],
   "source": [
    "# Answer to Ex. 1.9b.1"
   ]
  },
  {
   "cell_type": "code",
   "execution_count": 9,
   "metadata": {
    "ExecuteTime": {
     "end_time": "2017-08-23T15:18:56.305215Z",
     "start_time": "2017-08-23T15:18:56.302546Z"
    },
    "collapsed": true,
    "run_control": {
     "frozen": false,
     "read_only": false
    }
   },
   "outputs": [],
   "source": [
    "# Answer to Ex. 1.9b.2"
   ]
  },
  {
   "cell_type": "markdown",
   "metadata": {},
   "source": [
    "**Ex. 1.9c**: The URL reveals that the data is from reddit/r/news, but can you recover that information from the data? Give your answer by 'keying' into the JSON data using square brackets."
   ]
  },
  {
   "cell_type": "code",
   "execution_count": 10,
   "metadata": {
    "ExecuteTime": {
     "end_time": "2017-08-23T15:19:02.479919Z",
     "start_time": "2017-08-23T15:19:02.477065Z"
    },
    "collapsed": true,
    "run_control": {
     "frozen": false,
     "read_only": false
    }
   },
   "outputs": [],
   "source": [
    "# Answer to Ex. 1.9c"
   ]
  },
  {
   "cell_type": "markdown",
   "metadata": {},
   "source": [
    "**Ex 1.9d**: Write two for loops (or a list comprehensions for extra street credits) which:\n",
    "1. Prints the headlines on the reddit page.\n",
    "2. Counts the number of headlines which are spoilers."
   ]
  },
  {
   "cell_type": "code",
   "execution_count": 11,
   "metadata": {
    "ExecuteTime": {
     "end_time": "2017-08-23T15:19:07.991662Z",
     "start_time": "2017-08-23T15:19:07.988798Z"
    },
    "collapsed": true,
    "run_control": {
     "frozen": false,
     "read_only": false
    }
   },
   "outputs": [],
   "source": [
    "# Answer to Ex. 1.9d.1"
   ]
  },
  {
   "cell_type": "code",
   "execution_count": 12,
   "metadata": {
    "ExecuteTime": {
     "end_time": "2017-08-23T15:19:12.176273Z",
     "start_time": "2017-08-23T15:19:12.173241Z"
    },
    "collapsed": true,
    "run_control": {
     "frozen": false,
     "read_only": false
    }
   },
   "outputs": [],
   "source": [
    "# Answer to Ex. 1.9d.2"
   ]
  },
  {
   "cell_type": "code",
   "execution_count": null,
   "metadata": {
    "collapsed": true
   },
   "outputs": [],
   "source": []
  }
 ],
 "metadata": {
  "kernelspec": {
   "display_name": "Python 2",
   "language": "python",
   "name": "python2"
  },
  "language_info": {
   "codemirror_mode": {
    "name": "ipython",
    "version": 2
   },
   "file_extension": ".py",
   "mimetype": "text/x-python",
   "name": "python",
   "nbconvert_exporter": "python",
   "pygments_lexer": "ipython2",
   "version": "2.7.13"
  },
  "nav_menu": {},
  "toc": {
   "navigate_menu": true,
   "number_sections": false,
   "sideBar": true,
   "threshold": 6,
   "toc_cell": false,
   "toc_section_display": "block",
   "toc_window_display": true
  }
 },
 "nbformat": 4,
 "nbformat_minor": 1
}
